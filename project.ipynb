{
 "cells": [
  {
   "attachments": {},
   "cell_type": "markdown",
   "id": "innocent-university",
   "metadata": {},
   "source": [
    "# Real Estate Clean up\n",
    "\n",
    "This is a real dataset and it was downloaded using web scraping techniques. The data contains registers from fotocasa which is one of the most popular websites of real estate in Spain. Please, do not do this (web scraping) unless it is for academic purposes.\n",
    "\n",
    "The dataset was downloaded a few years ago by Henry Navarro and In no case were economic returns obtained from it.\n",
    "\n",
    "It contains thousands of data from real houses published on the web www.fotocasa.com. Your goal is to extract as much information as possible with the knowledge you have so far about data science, for example what is the most expensive house in the entire dataset?\n",
    "\n",
    "Let's start with precisely that question... Good luck!"
   ]
  },
  {
   "attachments": {},
   "cell_type": "markdown",
   "id": "multiple-glass",
   "metadata": {},
   "source": [
    "#### Exercise 00. Read the dataset assets/real_estate.csv and try to visualize the table (★☆☆)"
   ]
  },
  {
   "cell_type": "code",
   "execution_count": null,
   "id": "frank-heath",
   "metadata": {},
   "outputs": [],
   "source": [
    "import pandas as pd\n",
    "\n",
    "# this CSV file contains semicolons instead of comas as separator\n",
    "ds = pd.read_csv('assets/real_estate.csv', sep=';')\n",
    "ds"
   ]
  },
  {
   "attachments": {},
   "cell_type": "markdown",
   "id": "latin-guest",
   "metadata": {},
   "source": [
    "#### Exercise 01. Which is the most expensive house in the dataset? (★☆☆)\n",
    "\n",
    "Print the address and the price of the selected house. For example:\n",
    "\n",
    "`The house with address General Street Nº5 is the most expensive and its price is 5000000 USD`"
   ]
  },
  {
   "cell_type": "code",
   "execution_count": null,
   "id": "developing-optimum",
   "metadata": {},
   "outputs": [],
   "source": [
    "ds_sort = ds.sort_values(by= 'price', ascending= False)\n",
    "\n",
    "\n",
    "ds_sort.head(1)\n",
    "\n",
    "ExpensiveHouse_Price = ds_sort.iloc[0]['price']\n",
    "print(ExpensiveHouse_Price)\n",
    "\n",
    "ExpensiveHouse_Address = ds_sort.iloc[0]['address']\n",
    "ExpensiveHouse_Address\n",
    "\n",
    "print(f\"The house with address {ExpensiveHouse_Address} is the most expensive and its price is {ExpensiveHouse_Price} USD\")\n",
    "\n"
   ]
  },
  {
   "attachments": {},
   "cell_type": "markdown",
   "id": "lesser-cosmetic",
   "metadata": {},
   "source": [
    "#### Exercise 02. Which is cheapest house in the dataset? (★☆☆)\n",
    "\n",
    "Print the address and the price of the selected house. For example:\n",
    "\n",
    "`The house with address Concrete Street Nº1 is the cheapest and its price is 12000 USD`"
   ]
  },
  {
   "cell_type": "code",
   "execution_count": null,
   "id": "61604bd5",
   "metadata": {},
   "outputs": [],
   "source": [
    "ds[ds['price'] > 0].iloc[0]['price']"
   ]
  },
  {
   "cell_type": "code",
   "execution_count": null,
   "id": "lovely-oasis",
   "metadata": {},
   "outputs": [],
   "source": [
    "ds_sort = ds.sort_values(by= 'price', ascending= True)\n",
    "\n",
    "ds_sort.head(1)\n",
    "\n",
    "CheapestHouse_Price = ds_sort[ds_sort['price'] > 0].iloc[0]['price']\n",
    "print(CheapestHouse_Price)\n",
    "\n",
    "CheapestHouse_Address = ds_sort[ds_sort['price'] > 0].iloc[0]['address']\n",
    "CheapestHouse_Address\n",
    "\n",
    "print(f\"The house with address {CheapestHouse_Address} is the cheapest and its price is {CheapestHouse_Price} USD\")\n"
   ]
  },
  {
   "attachments": {},
   "cell_type": "markdown",
   "id": "compliant-fellowship",
   "metadata": {},
   "source": [
    "#### Exercise 03. Which is the biggest and the smallest house in the dataset? (★☆☆)\n",
    "\n",
    "Print both the address and the surface of the selected houses. For example:\n",
    "\n",
    "`The bigger house is located on Yukka Street Nº10 and its surface is 5000 meters`\n",
    "\n",
    "`The smaller house is located on County Road 1 N and its surface is 200 meters`"
   ]
  },
  {
   "cell_type": "code",
   "execution_count": null,
   "id": "every-tiffany",
   "metadata": {},
   "outputs": [],
   "source": [
    "ds_sort_big = ds.sort_values(by= 'surface', ascending= False)\n",
    "\n",
    "ds_sort_small = ds.sort_values(by= 'surface', ascending= True)\n",
    "\n",
    "BiggestHouse_Address = ds_sort_big.iloc[0]['address']\n",
    "\n",
    "SmallestHouse_Address = ds_sort_small.iloc[0]['address']\n",
    "\n",
    "BiggestHouse_Surface = ds_sort_big.iloc[0]['surface']\n",
    "SmallestHouse_Surface = ds_sort_small.iloc[0]['surface']\n",
    "\n",
    "print(f'The bigger house is located on {BiggestHouse_Address} and its surface is {BiggestHouse_Surface} meters')\n",
    "print(f'The smaller house is located on {SmallestHouse_Address} and its surface is {SmallestHouse_Surface} meters')\n"
   ]
  },
  {
   "attachments": {},
   "cell_type": "markdown",
   "id": "danish-spirit",
   "metadata": {},
   "source": [
    "#### Exercise 04. How many populations (level5 column) the dataset contains? (★☆☆)\n",
    "\n",
    "Print the name of the populations with comma as separator. For example:\n",
    "\n",
    "`> print(populations)`\n",
    "\n",
    "`population1, population2, population3,...`"
   ]
  },
  {
   "cell_type": "code",
   "execution_count": 27,
   "id": "774a8a1c",
   "metadata": {},
   "outputs": [
    {
     "name": "stdout",
     "output_type": "stream",
     "text": [
      "['Corpa', 'Mejorada del Campo', 'Colmenar Viejo', 'Fresnedillas de la Oliva', 'Gargantilla del Lozoya', 'Fuenlabrada', 'Algete', 'Navalcarnero', 'Loeches', 'Tielmes', 'Torrejón de la Calzada', 'Cercedilla', 'Morata de Tajuña', 'Valdilecha', 'Getafe', 'Nuevo Baztán', 'Orusco de Tajuña', 'Ajalvir', 'Camarma de Esteruelas', 'Daganzo de Arriba', 'Móstoles', 'Collado Mediano', 'Valdemaqueda', 'Parla', 'Quijorna', 'Valdaracete', 'Los Molinos', 'Cenicientos', 'Boadilla del Monte', 'Cabanillas de la Sierra', 'Torrelaguna', 'Humanes de Madrid', 'Guadalix de la Sierra', 'Valdeolmos-Alalpardo', 'Belmonte de Tajo', 'Cadalso de los Vidrios', 'Santorcaz', 'Villa del Prado', 'Las Rozas de Madrid', 'San Fernando de Henares', 'Bustarviejo', 'Navacerrada', 'Patones', 'San Lorenzo de El Escorial', 'Villaconejos', 'Puentes Viejas', 'Navalagamella', 'Cubas de la Sagra', 'Alcobendas', 'Pinto', 'Valdemoro', 'Griñón', 'Galapagar', 'Pozuelo del Rey', 'Navarredonda', 'Rivas-vaciamadrid', 'Aranjuez', 'Arroyomolinos (Madrid)', 'Madarcos', 'Talamanca de Jarama', 'Chapinería', 'Colmenar del Arroyo', 'Los Santos de la Humosa', 'Lozoya', 'Valdeavero', 'Ribatejada', 'Fuentidueña de Tajo', 'La Hiruela', 'Torrejón de Velasco', 'Buitrago del Lozoya', 'Pelayos de la Presa', 'Valdemanco', 'Carabaña', 'San Sebastián de los Reyes', 'Santa María de la Alameda', 'Montejo de la Sierra', 'Coslada', 'Horcajo de la Sierra', 'Sevilla la Nueva', 'San Martín de la Vega', 'Soto del Real', 'Chinchón', 'Titulcia', 'Rascafría', 'Leganés', 'Lozoyuela-navas-sieteiglesias', 'Valdemorillo', 'Ambite', 'Serranillos del Valle', 'Torremocha de Jarama', 'Piñuécar-gandullas', 'Alpedrete', 'Villamanrique de Tajo', 'Fresno de Torote - Serracines', 'Navalafuente', 'Torrejón de Ardoz', 'San Agustín del Guadalix', 'Aldea del Fresno', 'El Escorial', 'Robregordo', 'Fuente El Saz de Jarama', 'Meco', 'Anchuelo', 'El Álamo', 'Colmenar de Oreja', 'Moraleja de Enmedio', 'Venturada', 'Pedrezuela', 'Villaviciosa de Odón', 'Braojos', 'Ciempozuelos', 'Torrelodones', 'Fresno de Torote', 'Villanueva de la Cañada', 'Robledo de Chavela', 'Pozuelo de Alarcón', 'Paracuellos de Jarama', 'El Vellón', 'Villalbilla', 'Valdelaguna', 'Villavieja del Lozoya', 'Cobeña', 'Valdetorres de Jarama', 'Zarzalejo', 'Torres de la Alameda', 'Majadahonda', 'Alcalá de Henares', 'Velilla de San Antonio', 'Hoyo de Manzanares', 'San Martín de Valdeiglesias', 'Navas del Rey', 'Villanueva de Perales', 'Campo Real', 'Arganda del Rey', 'El Molar (Madrid)', 'Estremera', 'Brea de Tajo', 'Villamanta', 'Becerril de la Sierra', 'Villarejo de Salvanés', 'Gascones', ' Madrid Capital', 'El Berrueco', 'Perales de Tajuña', 'Miraflores de la Sierra', 'Alcorcón', 'Canencia', 'Casarrubuelos', 'Garganta de los Montes', 'El Boalo - Cerceda – Mataelpino', 'Villamantilla', 'Manzanares El Real', 'Guadarrama', 'Pezuela de las Torres', 'Pinilla del Valle', 'La Cabrera', 'Collado Villalba', 'Colmenarejo', 'Tres Cantos', 'El Atazar', 'Redueña', 'Batres', 'Valdepiélagos', 'Villanueva del Pardillo', 'Villar del Olmo', 'Brunete', 'Moralzarzal', 'Valverde de Alcalá']\n"
     ]
    }
   ],
   "source": [
    "populations_list = ds['level5'].to_list()\n",
    "\n",
    "populations_set = set(populations_list)\n",
    "\n",
    "populations_list = list(populations_set)\n",
    "\n",
    "print(populations_list)"
   ]
  },
  {
   "cell_type": "code",
   "execution_count": null,
   "id": "exciting-accreditation",
   "metadata": {},
   "outputs": [],
   "source": [
    "populations_list = ds['level5'].unique()\n",
    "print(populations_list)"
   ]
  },
  {
   "attachments": {},
   "cell_type": "markdown",
   "id": "crazy-blame",
   "metadata": {},
   "source": [
    "#### Exercise 05. Does the dataset contain NAs? (★☆☆)\n",
    "\n",
    "Print a boolean value (`true` or `fase`) followed by the rows/cols that contains NAs."
   ]
  },
  {
   "cell_type": "code",
   "execution_count": null,
   "id": "transparent-poetry",
   "metadata": {},
   "outputs": [],
   "source": [
    "# TODO"
   ]
  },
  {
   "attachments": {},
   "cell_type": "markdown",
   "id": "italic-hydrogen",
   "metadata": {},
   "source": [
    "#### Exercise 06. Delete the NAs of the dataset, if applicable (★★☆)\n",
    "\n",
    "Print a comparison between the dimensions of the original DataFrame versus the DataFrame after the deletions"
   ]
  },
  {
   "cell_type": "code",
   "execution_count": null,
   "id": "administrative-roads",
   "metadata": {},
   "outputs": [],
   "source": [
    "# TODO"
   ]
  },
  {
   "attachments": {},
   "cell_type": "markdown",
   "id": "middle-china",
   "metadata": {},
   "source": [
    "#### Exercise 07. Which is the mean of prices in the population (level5 column) of \"Arroyomolinos (Madrid)\"? (★★☆)\n",
    "\n",
    "Print the obtained value"
   ]
  },
  {
   "cell_type": "code",
   "execution_count": null,
   "id": "nuclear-belief",
   "metadata": {},
   "outputs": [],
   "source": [
    "# TODO"
   ]
  },
  {
   "attachments": {},
   "cell_type": "markdown",
   "id": "concerned-radical",
   "metadata": {},
   "source": [
    "#### Exercise 08. Plot the histogram of prices for the population (level5 column) of \"Arroyomolinos (Madrid)\" and explain what you observe (★★☆)\n",
    "\n",
    "Print the histogram of the prices and write in the Markdown cell a brief analysis about the plot."
   ]
  },
  {
   "cell_type": "code",
   "execution_count": null,
   "id": "sudden-message",
   "metadata": {},
   "outputs": [],
   "source": [
    "# TODO: Code"
   ]
  },
  {
   "attachments": {},
   "cell_type": "markdown",
   "id": "impressed-combination",
   "metadata": {},
   "source": [
    "**TODO: Markdown**. To write here, double click to this cell and just remove this content and place the text you want to write. Then, execute the cell."
   ]
  },
  {
   "attachments": {},
   "cell_type": "markdown",
   "id": "actual-edinburgh",
   "metadata": {},
   "source": [
    "#### Exercise 09. Are the averages of \"Valdemorillo\" and \"Galapagar\" prices the same? (★★☆)\n",
    "\n",
    "Print the both average prices and then write a conclusion about them"
   ]
  },
  {
   "cell_type": "code",
   "execution_count": null,
   "id": "numeric-commerce",
   "metadata": {},
   "outputs": [],
   "source": [
    "# TODO"
   ]
  },
  {
   "attachments": {},
   "cell_type": "markdown",
   "id": "lonely-article",
   "metadata": {},
   "source": [
    "#### Exercise 10. Are the averages of \"Valdemorillo\" and \"Galapagar\" price per square meter (price/m2) the same? (★★☆)\n",
    "\n",
    "Print the both average prices and then write a conclusion about\n",
    "\n",
    "Hint: Create a new column called `pps` (price per square) and then analyse the values"
   ]
  },
  {
   "cell_type": "code",
   "execution_count": null,
   "id": "hourly-globe",
   "metadata": {},
   "outputs": [],
   "source": [
    "# TODO"
   ]
  },
  {
   "attachments": {},
   "cell_type": "markdown",
   "id": "pleasant-invite",
   "metadata": {},
   "source": [
    "#### Exercise 11. Analyse the relation between the surface and the price of the houses (★★☆)\n",
    "\n",
    "Hint: You can make a `scatter plot` and then write a conclusion about it"
   ]
  },
  {
   "cell_type": "code",
   "execution_count": null,
   "id": "common-drilling",
   "metadata": {},
   "outputs": [],
   "source": [
    "# TODO: Code"
   ]
  },
  {
   "attachments": {},
   "cell_type": "markdown",
   "id": "ahead-liquid",
   "metadata": {},
   "source": [
    "**TODO: Markdown**. To write here, double click to this cell and just remove this content and place the text you want to write. Then, execute the cell."
   ]
  },
  {
   "attachments": {},
   "cell_type": "markdown",
   "id": "coordinate-sunrise",
   "metadata": {},
   "source": [
    "#### Exercise 12. How many real estate agencies the dataset contains? (★★☆)\n",
    "\n",
    "Print the obtained value"
   ]
  },
  {
   "cell_type": "code",
   "execution_count": null,
   "id": "valid-honolulu",
   "metadata": {},
   "outputs": [],
   "source": [
    "# TODO"
   ]
  },
  {
   "attachments": {},
   "cell_type": "markdown",
   "id": "binding-ebony",
   "metadata": {},
   "source": [
    "#### Exercise 13. Which is the population (level5 column) that contains the most houses? (★★☆)\n",
    "\n",
    "Print both the population and the number of houses"
   ]
  },
  {
   "cell_type": "code",
   "execution_count": null,
   "id": "static-perry",
   "metadata": {},
   "outputs": [],
   "source": [
    "# TODO"
   ]
  },
  {
   "attachments": {},
   "cell_type": "markdown",
   "id": "entire-classification",
   "metadata": {},
   "source": [
    "#### Exercise 14. Now let's work with the \"south belt\" of madrid. Make a subset of the original DataFrame that contains the following populations (level5 column): \"Fuenlabrada\",\"Leganés\",\"Getafe\",\"Alcorcón\" (★★☆)\n",
    "\n",
    "Hint: Filter the original DataFrame using the column `level5` and the function `isin`"
   ]
  },
  {
   "cell_type": "code",
   "execution_count": null,
   "id": "binary-input",
   "metadata": {},
   "outputs": [],
   "source": [
    "# TODO"
   ]
  },
  {
   "attachments": {},
   "cell_type": "markdown",
   "id": "severe-fisher",
   "metadata": {},
   "source": [
    "#### Exercise 15. Make a bar plot of the median of the prices and explain what you observe (you must use the subset obtained in the question 14) (★★★)\n",
    "\n",
    "Print the bar of the median of the prices and write in the Markdown cell a brief analysis about the plot"
   ]
  },
  {
   "cell_type": "code",
   "execution_count": null,
   "id": "lyric-bunch",
   "metadata": {},
   "outputs": [],
   "source": [
    "# TODO: Code"
   ]
  },
  {
   "attachments": {},
   "cell_type": "markdown",
   "id": "sublime-newspaper",
   "metadata": {},
   "source": [
    "**TODO: Markdown**. To write here, double click to this cell and just remove this content and place the text you want to write. Then, execute the cell."
   ]
  },
  {
   "attachments": {},
   "cell_type": "markdown",
   "id": "speaking-diamond",
   "metadata": {},
   "source": [
    "#### Exercise 16. Calculate the sample mean and variance of the variables: price, rooms, surface area and bathrooms (you must use the subset obtained in the question 14) (★★★)\n",
    "\n",
    "Print both values for each variable"
   ]
  },
  {
   "cell_type": "code",
   "execution_count": null,
   "id": "random-feeling",
   "metadata": {},
   "outputs": [],
   "source": [
    "# TODO"
   ]
  },
  {
   "attachments": {},
   "cell_type": "markdown",
   "id": "revolutionary-matrix",
   "metadata": {},
   "source": [
    "#### Exercise 17. What is the most expensive house of each population? You must use the subset obtained in the question 14 (★★☆)\n",
    "\n",
    "Print both the address and the price of the selected house of each population. You can print a DataFrame or a single line for each population"
   ]
  },
  {
   "cell_type": "code",
   "execution_count": null,
   "id": "fifteen-browse",
   "metadata": {},
   "outputs": [],
   "source": [
    "# TODO"
   ]
  },
  {
   "attachments": {},
   "cell_type": "markdown",
   "id": "activated-knight",
   "metadata": {},
   "source": [
    "#### Exercise 18. Normalize the variable of prices for each population and plot the 4 histograms in the same plot (you must use the subset obtained in the question 14) (★★★)\n",
    "\n",
    "For the normalization method you can use the one you consider to, there is not a single correct answer to this question. Print the plot and write in the Markdown cell a brief analysis about the plot\n",
    "\n",
    "Hint: You can help yourself reviewing the multihist demo of Matplotlib"
   ]
  },
  {
   "cell_type": "code",
   "execution_count": null,
   "id": "civic-meditation",
   "metadata": {},
   "outputs": [],
   "source": [
    "# TODO"
   ]
  },
  {
   "attachments": {},
   "cell_type": "markdown",
   "id": "precise-heavy",
   "metadata": {},
   "source": [
    "**TODO: Markdown**. To write here, double click to this cell and just remove this content and place the text you want to write. Then, execute the cell."
   ]
  },
  {
   "attachments": {},
   "cell_type": "markdown",
   "id": "patent-jonathan",
   "metadata": {},
   "source": [
    "#### Exercise 19. What can you say about the price per square meter (price/m2) between the towns of \"Getafe\" and \"Alcorcón\"? You must use the subset obtained in the question 14 (★★☆)\n",
    "\n",
    "Hint: Create a new column called `pps` (price per square) and then analyse the values"
   ]
  },
  {
   "cell_type": "code",
   "execution_count": null,
   "id": "initial-liverpool",
   "metadata": {},
   "outputs": [],
   "source": [
    "# TODO"
   ]
  },
  {
   "attachments": {},
   "cell_type": "markdown",
   "id": "enhanced-moscow",
   "metadata": {},
   "source": [
    "#### Exercise 20. Make the same plot for 4 different populations (level5 column) and rearrange them on the same graph? You must use the subset obtained in the question 14 (★★☆) \n",
    "Hint: make a scatter plot of each population using subplots."
   ]
  },
  {
   "cell_type": "code",
   "execution_count": null,
   "id": "accepting-airfare",
   "metadata": {},
   "outputs": [],
   "source": [
    "# TODO"
   ]
  },
  {
   "attachments": {},
   "cell_type": "markdown",
   "id": "blocked-effects",
   "metadata": {},
   "source": [
    "#### Exercise 21. Make a plot of the coordinates (latitude and longitude columns) of the south belt of Madrid by color of each population (you must use the subset obtained in the question 14) (★★★★)\n",
    "\n",
    "Execute the following cell and then start coding in the next one. You must implement a simple code that transform the coordinates columns in a Python dictionary (add more information if needed) and then add it to the map"
   ]
  },
  {
   "cell_type": "code",
   "execution_count": null,
   "id": "headed-privacy",
   "metadata": {},
   "outputs": [],
   "source": [
    "from ipyleaflet import Map, basemaps\n",
    "\n",
    "# Map centred on (60 degrees latitude et -2.2 degrees longitude)\n",
    "# Latitude, longitude\n",
    "map = Map(center = (60, -2.2), zoom = 2, min_zoom = 1, max_zoom = 20, \n",
    "    basemap=basemaps.Stamen.Terrain)\n",
    "map"
   ]
  },
  {
   "cell_type": "code",
   "execution_count": null,
   "id": "present-mistress",
   "metadata": {},
   "outputs": [],
   "source": [
    "## HERE: plot the coordinates of the estates\n",
    "\n",
    "## PUT HERE YOUR CODE:\n"
   ]
  }
 ],
 "metadata": {
  "kernelspec": {
   "display_name": "Python 3",
   "language": "python",
   "name": "python3"
  },
  "language_info": {
   "codemirror_mode": {
    "name": "ipython",
    "version": 3
   },
   "file_extension": ".py",
   "mimetype": "text/x-python",
   "name": "python",
   "nbconvert_exporter": "python",
   "pygments_lexer": "ipython3",
   "version": "3.11.4"
  }
 },
 "nbformat": 4,
 "nbformat_minor": 5
}
